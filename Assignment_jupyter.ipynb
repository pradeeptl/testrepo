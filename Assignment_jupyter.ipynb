{
    "cells": [
        {
            "cell_type": "markdown",
            "metadata": {},
            "source": "# My Jupyter Notebook on IBM Watson Studio"
        },
        {
            "cell_type": "markdown",
            "metadata": {},
            "source": "__Name: Pradeep TL__<br>\nDesired Job : DataScientist"
        },
        {
            "cell_type": "markdown",
            "metadata": {},
            "source": "_I'm interested in data science because we can solve problems that exists even before they occur,like in the example of a predictive modelling for earth quake. We can draw patterns out of the data and solve real world problems_"
        },
        {
            "cell_type": "markdown",
            "metadata": {},
            "source": "### Code below figures out and returns the even numbers in a List"
        },
        {
            "cell_type": "code",
            "execution_count": 3,
            "metadata": {},
            "outputs": [
                {
                    "name": "stdout",
                    "output_type": "stream",
                    "text": "[2, 4, 6, 8, 10]\n"
                }
            ],
            "source": "def Even(Nlist):\n    Even_list = []\n    for ele in Nlist:\n        if ele%2==0:\n            Even_list.append(ele)\n    return Even_list\n\nEven_nums = Even([1,2,3,4,5,6,7,8,9,10])\nprint(Even_nums)          "
        },
        {
            "cell_type": "markdown",
            "metadata": {},
            "source": "<ol>\n  <li>Even</li>\n  <li>Odd</li>\n  <li>Prime</li>\n</ol> \n\n<hr>\n\n<ul>\n  <li>Even</li>\n  <li>Odd</li>\n  <li>Prime</li>\n</ul>\n\n<s>Implemented Numbered list,Horizontal Rule,Bulleted list and Strikethrough</s>"
        }
    ],
    "metadata": {
        "kernelspec": {
            "display_name": "Python 3.9",
            "language": "python",
            "name": "python3"
        },
        "language_info": {
            "codemirror_mode": {
                "name": "ipython",
                "version": 3
            },
            "file_extension": ".py",
            "mimetype": "text/x-python",
            "name": "python",
            "nbconvert_exporter": "python",
            "pygments_lexer": "ipython3",
            "version": "3.9.7"
        }
    },
    "nbformat": 4,
    "nbformat_minor": 1
}